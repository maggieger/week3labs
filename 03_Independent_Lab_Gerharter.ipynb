{
 "cells": [
  {
   "cell_type": "markdown",
   "id": "c29fd2de-8c94-43a5-8e11-ee8907732b37",
   "metadata": {},
   "source": [
    "## Welcome to our self-service kiosk!\n",
    "\n",
    "**Get your ski resort tickets and passes here - quick and easy!**"
   ]
  },
  {
   "cell_type": "code",
   "execution_count": 2,
   "id": "3a9f3fd0-66e2-4507-ab47-658cd0347121",
   "metadata": {},
   "outputs": [],
   "source": [
    "#Product names\n",
    "product_1 = 'Single Day Ticket - Weekday'\n",
    "product_2 = 'Single Day Ticket - Weekend'\n",
    "product_3 = 'Season Pass - Adult'\n",
    "product_4 = 'Season Pass - Child'\n",
    "product_5 = 'Season Pass - Student/Senior'\n",
    "#Product prices\n",
    "price_1 = 50.00\n",
    "price_2 = 70.00\n",
    "price_3 = 469.00\n",
    "price_4 = 259.00\n",
    "price_5 = 409.00"
   ]
  },
  {
   "cell_type": "code",
   "execution_count": 3,
   "id": "93638ae8-3c57-4254-8e78-3d84a313a1f5",
   "metadata": {},
   "outputs": [
    {
     "name": "stdout",
     "output_type": "stream",
     "text": [
      "\n",
      "Here are the ticket options: \n",
      "\n"
     ]
    }
   ],
   "source": [
    "print(\"\\nHere are the ticket options: \\n\")"
   ]
  },
  {
   "cell_type": "code",
   "execution_count": 4,
   "id": "ea199860-b255-47e9-ae67-0c154f0063f9",
   "metadata": {},
   "outputs": [
    {
     "name": "stdout",
     "output_type": "stream",
     "text": [
      "1: Single Day Ticket - Weekday - $50.00\n",
      "2: Single Day Ticket - Weekend - $70.00\n",
      "3: Season Pass - Adult - $469.00\n",
      "4: Season Pass - Child - $259.00\n",
      "5: Season Pass - Student/Senior - $409.00\n"
     ]
    }
   ],
   "source": [
    "print(f\"1: {product_1} - ${price_1:.2f}\")\n",
    "print(f\"2: {product_2} - ${price_2:.2f}\")\n",
    "print(f\"3: {product_3} - ${price_3:.2f}\")\n",
    "print(f\"4: {product_4} - ${price_4:.2f}\")\n",
    "print(f\"5: {product_5} - ${price_5:.2f}\")"
   ]
  },
  {
   "cell_type": "code",
   "execution_count": 5,
   "id": "38e024c5-a631-4e49-9cd9-e09a01224113",
   "metadata": {},
   "outputs": [],
   "source": [
    "order = {}  #dictionary to store product name as a key and quantity as a value\n",
    "total_cost = 0.0"
   ]
  },
  {
   "cell_type": "code",
   "execution_count": 6,
   "id": "fe428077-ecff-4cf4-a762-20b69d5ba358",
   "metadata": {},
   "outputs": [
    {
     "name": "stdin",
     "output_type": "stream",
     "text": [
      "\n",
      "Enter product you want to buy (or type 'done' to finish): 3\n",
      "Enter the quantity: 2\n"
     ]
    },
    {
     "name": "stdout",
     "output_type": "stream",
     "text": [
      "\n",
      "You added 2x Season Pass - Adult.\n",
      "Current total: $938.00\n"
     ]
    },
    {
     "name": "stdin",
     "output_type": "stream",
     "text": [
      "\n",
      "Enter product you want to buy (or type 'done' to finish): 4\n",
      "Enter the quantity: 2\n"
     ]
    },
    {
     "name": "stdout",
     "output_type": "stream",
     "text": [
      "\n",
      "You added 2x Season Pass - Child.\n",
      "Current total: $1456.00\n"
     ]
    },
    {
     "name": "stdin",
     "output_type": "stream",
     "text": [
      "\n",
      "Enter product you want to buy (or type 'done' to finish): done\n"
     ]
    }
   ],
   "source": [
    "while True:\n",
    "    choice = input(\"\\nEnter product you want to buy (or type 'done' to finish):\") \n",
    "\n",
    "    if choice.lower() == \"done\":\n",
    "        break #exit loop when finished\n",
    "    \n",
    "    if choice in ['1', '2', '3', '4', '5']:\n",
    "        quantity = input ('Enter the quantity:')\n",
    "    \n",
    "        if not quantity.isdigit():\n",
    "            print('Invalid. Please enter a number')\n",
    "            continue #skip rest of loop and ask again\n",
    "\n",
    "        quantity = int(quantity)\n",
    "\n",
    "        products = {\n",
    "            '1': (product_1, price_1),\n",
    "            '2': (product_2, price_2),\n",
    "            '3': (product_3, price_3),\n",
    "            '4': (product_4, price_4),\n",
    "            '5': (product_5, price_5),\n",
    "        }\n",
    "\n",
    "        product, price = products [choice]\n",
    "\n",
    "        #update order\n",
    "        order[product] = order.get(product, 0) + quantity\n",
    "\n",
    "        #update total cost    \n",
    "        total_cost += price * quantity\n",
    "\n",
    "        print(f\"\\nYou added {quantity}x {product}.\")\n",
    "        print(f\"Current total: ${total_cost:.2f}\")\n",
    "\n",
    "    else:\n",
    "        print(\"That is not an option. Please try again.\")\n",
    "    \n"
   ]
  },
  {
   "cell_type": "code",
   "execution_count": 7,
   "id": "1f40dd95-caef-4ae2-90f5-d5fc4a9bb0d3",
   "metadata": {},
   "outputs": [
    {
     "name": "stdout",
     "output_type": "stream",
     "text": [
      "\n",
      "--- Order Summary ---\n",
      "2x Season Pass - Adult\n",
      "2x Season Pass - Child\n",
      "\n",
      "Total amount due: $1456.00\n",
      "Thank you for your purchase!\n"
     ]
    }
   ],
   "source": [
    "print(\"\\n--- Order Summary ---\")\n",
    "for product, quantity in order.items():\n",
    "    print(f\"{quantity}x {product}\")\n",
    "\n",
    "print(f\"\\nTotal amount due: ${total_cost:.2f}\")\n",
    "print(\"Thank you for your purchase!\")"
   ]
  },
  {
   "cell_type": "markdown",
   "id": "4b742d8e-0b24-42f4-ade1-b56a682a91dd",
   "metadata": {},
   "source": [
    "## Additional Sources:\n",
    "My dad\n",
    "\n",
    "\n",
    "https://www.geeksforgeeks.org/python-while-loop/\n",
    "https://www.geeksforgeeks.org/python-dictionary/?ref=header_outind\n",
    "\n",
    "\n",
    "chatgpt - when I couldn't find the mistake I had made - help me organize my code"
   ]
  },
  {
   "cell_type": "code",
   "execution_count": null,
   "id": "7f557f82-945d-44d2-9c54-187cbd4d2673",
   "metadata": {},
   "outputs": [],
   "source": []
  }
 ],
 "metadata": {
  "kernelspec": {
   "display_name": "Python [conda env:base] *",
   "language": "python",
   "name": "conda-base-py"
  },
  "language_info": {
   "codemirror_mode": {
    "name": "ipython",
    "version": 3
   },
   "file_extension": ".py",
   "mimetype": "text/x-python",
   "name": "python",
   "nbconvert_exporter": "python",
   "pygments_lexer": "ipython3",
   "version": "3.12.7"
  }
 },
 "nbformat": 4,
 "nbformat_minor": 5
}
