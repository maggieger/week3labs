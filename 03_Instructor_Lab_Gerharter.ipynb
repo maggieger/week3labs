{
 "cells": [
  {
   "cell_type": "markdown",
   "id": "29770db3-76d2-4bda-ac7e-1cc1634e359b",
   "metadata": {},
   "source": [
    "**UM MSBA - BGEN 632**\n",
    "**02 Independent Lab**\n",
    "**Magdalena Gerharter**\n",
    "**10.03.2025**\n",
    "\n",
    "# Celsius to Fahrenheit and Kelvin Converter"
   ]
  },
  {
   "cell_type": "markdown",
   "id": "cffa26cb-cf82-4a33-b868-0eb85e244ec0",
   "metadata": {},
   "source": [
    "Welcome to my Celsius to Fahrenheit Converter. This converter will be based on the following equation:\n",
    "Fahrenheit = (9/5) * Celsius + 32"
   ]
  },
  {
   "cell_type": "markdown",
   "id": "a36c8426-b179-48b4-9b46-834d58c0db0f",
   "metadata": {},
   "source": [
    "## Celsius to Fahrenheit"
   ]
  },
  {
   "cell_type": "code",
   "execution_count": 5,
   "id": "28c69508-1eee-4e45-b67f-f557c6293703",
   "metadata": {},
   "outputs": [],
   "source": [
    "celsius = 0.0"
   ]
  },
  {
   "cell_type": "code",
   "execution_count": 6,
   "id": "73cb88c9-cd9a-45e2-bead-031692c4664a",
   "metadata": {},
   "outputs": [],
   "source": [
    "fahrenheit = 0.0"
   ]
  },
  {
   "cell_type": "markdown",
   "id": "d3f0e0ea-0df2-4657-9ebf-e57f01ee554b",
   "metadata": {},
   "source": [
    "We use float because we have a number with decimals"
   ]
  },
  {
   "cell_type": "code",
   "execution_count": 8,
   "id": "cdd3dea7-8883-42de-a8f7-4d1b34ad47e6",
   "metadata": {},
   "outputs": [
    {
     "name": "stdin",
     "output_type": "stream",
     "text": [
      "Please provide a value, in Celsius, to convert :\n",
      " 30\n"
     ]
    }
   ],
   "source": [
    "text = float(input(\"Please provide a value, in Celsius, to convert :\\n\"))"
   ]
  },
  {
   "cell_type": "code",
   "execution_count": 9,
   "id": "e29399bd-80a2-4056-ac21-295991b69be7",
   "metadata": {},
   "outputs": [],
   "source": [
    "celsius = text"
   ]
  },
  {
   "cell_type": "code",
   "execution_count": 10,
   "id": "46fd2aac-9011-487f-8600-85ea38e254bb",
   "metadata": {},
   "outputs": [],
   "source": [
    "fahrenheit = (9/5)*celsius+32"
   ]
  },
  {
   "cell_type": "code",
   "execution_count": 11,
   "id": "1e87b4c7-6c43-4461-871e-408c8b7b9ab4",
   "metadata": {},
   "outputs": [
    {
     "name": "stdout",
     "output_type": "stream",
     "text": [
      "30.0 degrees celsius is 86.0 degrees fahrenheit.\n"
     ]
    }
   ],
   "source": [
    "print(f\"{celsius} degrees celsius is {fahrenheit} degrees fahrenheit.\")"
   ]
  },
  {
   "cell_type": "code",
   "execution_count": 12,
   "id": "5980e0ff-891a-4878-bf2b-a2049273e7c7",
   "metadata": {},
   "outputs": [],
   "source": [
    "int_fahrenheit = int(fahrenheit)"
   ]
  },
  {
   "cell_type": "markdown",
   "id": "7c412847-22d0-4183-a79d-5accb8eca7ca",
   "metadata": {},
   "source": [
    "I am using type() to check the data type"
   ]
  },
  {
   "cell_type": "code",
   "execution_count": 14,
   "id": "dfe8075f-e2bb-4e8c-ac2a-012af7b13722",
   "metadata": {},
   "outputs": [
    {
     "data": {
      "text/plain": [
       "int"
      ]
     },
     "execution_count": 14,
     "metadata": {},
     "output_type": "execute_result"
    }
   ],
   "source": [
    "type(int_fahrenheit)"
   ]
  },
  {
   "cell_type": "code",
   "execution_count": 15,
   "id": "65431e12-a811-4225-8c9a-d2418d41d3af",
   "metadata": {},
   "outputs": [
    {
     "data": {
      "text/plain": [
       "'Converted fahrenheit in integer: 86'"
      ]
     },
     "execution_count": 15,
     "metadata": {},
     "output_type": "execute_result"
    }
   ],
   "source": [
    "f\"Converted fahrenheit in integer: {int_fahrenheit}\""
   ]
  },
  {
   "cell_type": "markdown",
   "id": "b8df3e0d-7c61-4bcc-b246-b42c617c739f",
   "metadata": {},
   "source": [
    "## Celsius to Kelvin"
   ]
  },
  {
   "cell_type": "code",
   "execution_count": 17,
   "id": "a2646333-f2c6-4552-a40b-8052fa747beb",
   "metadata": {},
   "outputs": [],
   "source": [
    "kelvin = celsius + 273.15"
   ]
  },
  {
   "cell_type": "code",
   "execution_count": 18,
   "id": "a81dd087-350d-4a21-b999-3fd8aaa6314a",
   "metadata": {},
   "outputs": [
    {
     "name": "stdout",
     "output_type": "stream",
     "text": [
      "30.0 degress Celsius is 86.0 degrees Fahrenheit which is 303.15 degrees Kelvin.\n"
     ]
    }
   ],
   "source": [
    "print(f\"{celsius} degress Celsius is {fahrenheit} degrees Fahrenheit which is {kelvin} degrees Kelvin.\")"
   ]
  },
  {
   "cell_type": "markdown",
   "id": "57e57707-360c-4029-b79b-693a25eeeede",
   "metadata": {},
   "source": [
    "## Comparison operators"
   ]
  },
  {
   "cell_type": "markdown",
   "id": "9c9226a7-e7e0-4d8f-8a5e-05298821fd9b",
   "metadata": {},
   "source": [
    "### Second set of values\n"
   ]
  },
  {
   "cell_type": "code",
   "execution_count": 21,
   "id": "6f583a1e-bb6f-4da9-adaa-dfd3301717d6",
   "metadata": {},
   "outputs": [],
   "source": [
    "celsius_two = 0.0"
   ]
  },
  {
   "cell_type": "code",
   "execution_count": 22,
   "id": "0a1556d0-5756-47da-8903-7f75a221c7e9",
   "metadata": {},
   "outputs": [
    {
     "name": "stdin",
     "output_type": "stream",
     "text": [
      "Please provide a second value, in Celsius, to convert :\n",
      " 20\n"
     ]
    }
   ],
   "source": [
    "text_two = float(input(\"Please provide a second value, in Celsius, to convert :\\n\"))"
   ]
  },
  {
   "cell_type": "code",
   "execution_count": 23,
   "id": "659ea0f4-c520-4460-9e0a-c3932ac9d2b9",
   "metadata": {},
   "outputs": [],
   "source": [
    "celsius_two = text_two"
   ]
  },
  {
   "cell_type": "code",
   "execution_count": 24,
   "id": "09f2e236-bcd5-4a2a-a5d9-cc259d8a55f4",
   "metadata": {},
   "outputs": [],
   "source": [
    "fahrenheit_two = (9/5) * celsius_two + 32"
   ]
  },
  {
   "cell_type": "code",
   "execution_count": 25,
   "id": "ac90ee82-9e75-47ed-97b9-2fc678020588",
   "metadata": {},
   "outputs": [],
   "source": [
    "kelvin_two = celsius_two + 273.15"
   ]
  },
  {
   "cell_type": "code",
   "execution_count": 26,
   "id": "c8558bc7-6dfc-4648-9740-c64df58f8377",
   "metadata": {},
   "outputs": [
    {
     "name": "stdout",
     "output_type": "stream",
     "text": [
      "Second set of values: 20.0 degrees Celsius is 68.0 degrees Fahrenheit which is 293.15 degrees Kelvin.\n"
     ]
    }
   ],
   "source": [
    "print(f\"Second set of values: {celsius_two} degrees Celsius is {fahrenheit_two} degrees Fahrenheit which is {kelvin_two} degrees Kelvin.\")"
   ]
  },
  {
   "cell_type": "markdown",
   "id": "7b5b210a-19f3-4d92-ab5b-517c03a683b4",
   "metadata": {},
   "source": [
    "### Comparison of variables"
   ]
  },
  {
   "cell_type": "markdown",
   "id": "1f6d8637-e37b-4d02-8f97-6a1da1ee160f",
   "metadata": {},
   "source": [
    "#### Celsius"
   ]
  },
  {
   "cell_type": "code",
   "execution_count": 29,
   "id": "4f47dbee-84da-4a5a-8846-51c1ef939a8e",
   "metadata": {},
   "outputs": [
    {
     "name": "stdout",
     "output_type": "stream",
     "text": [
      "The original value of 30.0 is greater than the new value of 20.0.\n"
     ]
    }
   ],
   "source": [
    "if celsius > celsius_two: print(f\"The original value of {celsius} is greater than the new value of {celsius_two}.\")\n",
    "\n",
    "elif celsius < celsius_two: print(f\"The original value of {celsius} is lesser than the new value of {celsius_two}.\")\n",
    "\n",
    "else: print(f\"The original value of {celsius} is equal to the new value of {celsius_two}.\")"
   ]
  },
  {
   "cell_type": "markdown",
   "id": "a20cd2b7-317b-464a-9f2f-d97ecb62c35f",
   "metadata": {},
   "source": [
    "#### Fahrenheit"
   ]
  },
  {
   "cell_type": "code",
   "execution_count": 31,
   "id": "a3211c9e-ffb3-47b0-ba02-b9352102109c",
   "metadata": {},
   "outputs": [
    {
     "name": "stdout",
     "output_type": "stream",
     "text": [
      "The original value of 86.0 is greater than or equal to the new value of 68.0.\n"
     ]
    }
   ],
   "source": [
    "if fahrenheit >= fahrenheit_two: print(f\"The original value of {fahrenheit} is greater than or equal to the new value of {fahrenheit_two}.\")\n",
    "\n",
    "else: print(f\"The original value of {fahrenheit} is lesser than the new value of {fahrenheit_two}.\")"
   ]
  },
  {
   "cell_type": "markdown",
   "id": "2b3fbc55-870f-46b9-8b4c-34c07d572877",
   "metadata": {},
   "source": [
    "#### Kelvin"
   ]
  },
  {
   "cell_type": "code",
   "execution_count": 33,
   "id": "cae3fe73-3edf-4f0c-889d-561b90562f2f",
   "metadata": {},
   "outputs": [
    {
     "name": "stdout",
     "output_type": "stream",
     "text": [
      "The original value of 303.15 is not equal to  the new value of 293.15.\n"
     ]
    }
   ],
   "source": [
    "if kelvin <= kelvin_two: print(f\"The original value of {kelvin} is lesser than or equal to the new value of {kelvin_two}.\")\n",
    "\n",
    "elif kelvin < kelvin_two: print(f\"The original value of {kelvin} is lesser than the new value of {kelvin_two}.\")\n",
    "\n",
    "else: print(f\"The original value of {kelvin} is not equal to  the new value of {kelvin_two}.\")"
   ]
  },
  {
   "cell_type": "markdown",
   "id": "355c38fa-f222-430a-a334-97e623117dce",
   "metadata": {},
   "source": [
    "## Logical operators"
   ]
  },
  {
   "cell_type": "markdown",
   "id": "9d49904c-158a-4f25-8f98-f888e054c5cb",
   "metadata": {},
   "source": [
    "### and"
   ]
  },
  {
   "cell_type": "code",
   "execution_count": 36,
   "id": "c1952578-e6a9-45b3-a105-2b215d5cb2b3",
   "metadata": {},
   "outputs": [
    {
     "name": "stdout",
     "output_type": "stream",
     "text": [
      "celsius > celsius_two and fahrenheit < fahrenheit_two\n"
     ]
    }
   ],
   "source": [
    "print(\"celsius > celsius_two and fahrenheit < fahrenheit_two\")"
   ]
  },
  {
   "cell_type": "code",
   "execution_count": 37,
   "id": "b29ace84-28fb-4ea7-b55e-5cb00b01647d",
   "metadata": {},
   "outputs": [
    {
     "name": "stdout",
     "output_type": "stream",
     "text": [
      "Python lies!\n"
     ]
    }
   ],
   "source": [
    "if celsius > celsius_two and fahrenheit < fahrenheit_two: print(\"Python spreaks the truth!\")\n",
    "\n",
    "else: print(\"Python lies!\")"
   ]
  },
  {
   "cell_type": "markdown",
   "id": "e3428bff-093c-4e7a-8e17-0d66ec41ae4c",
   "metadata": {},
   "source": [
    "### or"
   ]
  },
  {
   "cell_type": "code",
   "execution_count": 39,
   "id": "2f0d2052-cb52-4cf5-9ee6-a94e19331ba3",
   "metadata": {},
   "outputs": [
    {
     "name": "stdout",
     "output_type": "stream",
     "text": [
      "celsius == celsius_two or kelvin != kelvin_two\n"
     ]
    }
   ],
   "source": [
    "print(\"celsius == celsius_two or kelvin != kelvin_two\")"
   ]
  },
  {
   "cell_type": "code",
   "execution_count": 40,
   "id": "b4a6c17f-7327-4ef2-855c-30bfece16974",
   "metadata": {},
   "outputs": [
    {
     "name": "stdout",
     "output_type": "stream",
     "text": [
      "Python spreaks the truth!\n"
     ]
    }
   ],
   "source": [
    "if celsius == celsius_two or kelvin != kelvin_two: print(\"Python spreaks the truth!\")\n",
    "\n",
    "else: print(\"Python lies.\")"
   ]
  }
 ],
 "metadata": {
  "kernelspec": {
   "display_name": "Python [conda env:base] *",
   "language": "python",
   "name": "conda-base-py"
  },
  "language_info": {
   "codemirror_mode": {
    "name": "ipython",
    "version": 3
   },
   "file_extension": ".py",
   "mimetype": "text/x-python",
   "name": "python",
   "nbconvert_exporter": "python",
   "pygments_lexer": "ipython3",
   "version": "3.12.7"
  }
 },
 "nbformat": 4,
 "nbformat_minor": 5
}
